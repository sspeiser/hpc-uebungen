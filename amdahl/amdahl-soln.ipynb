{
 "cells": [
  {
   "cell_type": "markdown",
   "metadata": {},
   "source": [
    "# Amdahl's Law\n",
    "\n",
    "<div class=\"alert alert-warning\">\n",
    "<b>ÜBUNG: </b> Amdahl's Gesetz<br />\n",
    "<p>Erstellen Sie eine Tabelle/ein Chart, das den maximalen Speedup für folgende Kombinationen zeigt:\n",
    "<ul>\n",
    "<li>Prozessoren: 1, 2, 4, 8, 16, 32, 64, 128, 256, 512, 1024, 2048, 4096</li>\n",
    "<li>Paralleler Anteil: 50%, 75%, 90%, 95%</li>\n",
    "</ul>\n",
    "\n",
    "Wie viel Zeit wird eingespart bei einem Programm mit parallelem Anteil 80%, das auf 1 Prozessor 24 Stunden läuft beim Umstieg von 1 auf 16 Prozessoren? Wie viel beim Umstieg von 16 auf 64 Prozessoren?\n",
    "</div>"
   ]
  },
  {
   "cell_type": "code",
   "execution_count": null,
   "metadata": {},
   "outputs": [],
   "source": [
    "import numpy as np\n",
    "import pandas as pd\n",
    "import matplotlib.pyplot as plt\n",
    "\n",
    "def speedup(parallel_share, n_processors):\n",
    "    return 1.0 / ((1-parallel_share) + parallel_share / n_processors)"
   ]
  },
  {
   "cell_type": "code",
   "execution_count": null,
   "metadata": {},
   "outputs": [],
   "source": [
    "ns = 2**np.arange(0, 13)\n",
    "ns"
   ]
  },
  {
   "cell_type": "code",
   "execution_count": null,
   "metadata": {},
   "outputs": [],
   "source": [
    "df = pd.DataFrame(index=ns)\n",
    "df"
   ]
  },
  {
   "cell_type": "code",
   "execution_count": null,
   "metadata": {},
   "outputs": [],
   "source": [
    "shares = [0.5, 0.75, 0.9, 0.95]\n",
    "\n",
    "for share in shares:\n",
    "    df[share] = [speedup(share, n) for n in ns]"
   ]
  },
  {
   "cell_type": "code",
   "execution_count": null,
   "metadata": {},
   "outputs": [],
   "source": [
    "df"
   ]
  },
  {
   "cell_type": "code",
   "execution_count": null,
   "metadata": {},
   "outputs": [],
   "source": [
    "df.plot()\n",
    "plt.semilogx()\n",
    "plt.grid()\n",
    "plt.xticks(ns,ns)\n",
    "plt.show()"
   ]
  },
  {
   "cell_type": "code",
   "execution_count": null,
   "metadata": {},
   "outputs": [],
   "source": [
    "# Wie viel Zeit wird eingespart bei einem Programm mit parallelem Anteil 80%, \n",
    "# das auf 1 Prozessor 24 Stunden läuft beim Umstieg von 1 auf 16 Prozessoren? \n",
    "# Wie viel beim Umstieg von 16 auf 64 Prozessoren?\n",
    "\n",
    "laufzeit_orig = 24\n",
    "laufzeit_neu = 24/speedup(0.8, 16)\n",
    "einsparung = laufzeit_orig - laufzeit_neu\n",
    "print(f'Einsparung von 1 auf 16 Prozesoren: {einsparung:.1f} Stunden (von {laufzeit_orig:.1f} auf {laufzeit_neu:.1f} Stunden)')\n",
    "\n",
    "laufzeit_orig = laufzeit_neu\n",
    "laufzeit_neu = 24/speedup(0.8, 64)\n",
    "einsparung = laufzeit_orig - laufzeit_neu\n",
    "print(f'Einsparung von 16 auf 64 Prozesoren: {einsparung:.1f} Stunden (von {laufzeit_orig:.1f} auf {laufzeit_neu:.1f} Stunden)')\n"
   ]
  },
  {
   "cell_type": "markdown",
   "metadata": {},
   "source": [
    "## Heterogenes Computing\n",
    "\n",
    "<div class=\"alert alert-warning\">\n",
    "<b>ÜBUNG: </b> Amdahl's Gesetz mit heterogenen Prozessoren<br />\n",
    "<p>Betrachten wir einen Prozessor mit einem Kern für sequenzielle Aufgaben und 4 Kernen für parallele Aufgaben. Aufgrund von technologischen Entwicklungen können Sie bei der nächsten Prozessorgeneration entweder den Kern für sequenzielle Aufgaben doppelt so schnell machen (A) oder die Anzahl der Kerne für parallele Aufgaben verdopplen (B). Wofür entscheiden Sie sich (d.h. wie hoch ist der jeweilige Speedup), wenn der typische Workload einen parallelen Anteil von 25%, 50%, 75%, 90% oder 95% hat?\n",
    "</div>"
   ]
  },
  {
   "cell_type": "code",
   "execution_count": null,
   "metadata": {},
   "outputs": [],
   "source": [
    "parallel = [0.25, 0.5, 0.75, 0.9, 0.95]\n",
    "\n",
    "def speedup4to8(p):\n",
    "    return ((1-p) + p / 4) / ((1-p) + p / 8)\n",
    "\n",
    "def speedup2xSeq(p):\n",
    "    return ((1-p) + p / 4) / ((1-p)/2 + p / 4)\n",
    "\n",
    "print('Parallel | Speedup A | Speedup B')\n",
    "for p in parallel:\n",
    "    print(f'    {p:4.2f} |      {speedup2xSeq(p):4.1f} |      {speedup4to8(p):4.1f}')"
   ]
  }
 ],
 "metadata": {
  "kernelspec": {
   "display_name": ".venv",
   "language": "python",
   "name": "python3"
  },
  "language_info": {
   "codemirror_mode": {
    "name": "ipython",
    "version": 3
   },
   "file_extension": ".py",
   "mimetype": "text/x-python",
   "name": "python",
   "nbconvert_exporter": "python",
   "pygments_lexer": "ipython3",
   "version": "3.13.3"
  }
 },
 "nbformat": 4,
 "nbformat_minor": 2
}
