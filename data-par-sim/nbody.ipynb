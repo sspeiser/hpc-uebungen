{
 "cells": [
  {
   "cell_type": "code",
   "execution_count": null,
   "metadata": {},
   "outputs": [],
   "source": [
    "\n",
    "# N x 2 vs. 2 x N Positions, Acc\n",
    "# N x 1 Masse\n",
    "# \n",
    "pos = np.array()\n",
    "posy = np.array()"
   ]
  }
 ],
 "metadata": {
  "language_info": {
   "name": "python"
  },
  "orig_nbformat": 4
 },
 "nbformat": 4,
 "nbformat_minor": 2
}
